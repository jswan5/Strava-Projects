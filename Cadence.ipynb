{
 "cells": [
  {
   "cell_type": "code",
   "execution_count": 1,
   "id": "1e96d320-e28c-4af1-b1d5-a79a4eee7563",
   "metadata": {},
   "outputs": [],
   "source": [
    "# -*- coding: utf-8 -*-\n",
    "\"\"\"\n",
    "Created on Sun Jun  6 11:04:18 2021\n",
    "@author: Jordan Swanson\n",
    "Using Strava data from personal runs, exported via Golden Cheetah\n",
    "\"\"\"\n",
    "\n",
    "import pandas as pd\n",
    "import matplotlib.pyplot as plt\n",
    "import glob\n",
    "from sklearn.linear_model import LinearRegression\n",
    "from sklearn.model_selection import train_test_split\n",
    "from sklearn import metrics"
   ]
  },
  {
   "cell_type": "code",
   "execution_count": 2,
   "id": "3f77fc03-1861-41dd-815a-b432e7f55678",
   "metadata": {},
   "outputs": [
    {
     "name": "stdout",
     "output_type": "stream",
     "text": [
      "              index          secs           cad            hr            km  \\\n",
      "count  23194.000000  23194.000000  23194.000000  23194.000000  23194.000000   \n",
      "mean    1020.773821   1131.933733     81.957144    177.035828      2.926628   \n",
      "std      809.572889    898.628133      8.890882     14.125982      2.240392   \n",
      "min        0.000000      1.000000      0.000000     95.000000      0.000000   \n",
      "25%      386.000000    408.000000     82.000000    172.000000      1.145000   \n",
      "50%      806.000000    892.000000     84.000000    181.000000      2.419000   \n",
      "75%     1492.000000   1714.750000     85.000000    186.000000      4.354000   \n",
      "max     3649.000000   3932.000000    114.000000    201.000000     10.027000   \n",
      "\n",
      "                kph       nm    watts           alt           lon  ...  \\\n",
      "count  23194.000000  23194.0  23194.0  23194.000000  23194.000000  ...   \n",
      "mean      10.162340      0.0      0.0   1051.772549   -114.075869  ...   \n",
      "std        2.496356      0.0      0.0      7.165730      0.019925  ...   \n",
      "min        0.000000      0.0      0.0   1041.100000   -114.130816  ...   \n",
      "25%       10.080000      0.0      0.0   1048.200000   -114.084967  ...   \n",
      "50%       10.800000      0.0      0.0   1049.600000   -114.077581  ...   \n",
      "75%       11.520000      0.0      0.0   1054.000000   -114.065117  ...   \n",
      "max       25.920000      0.0      0.0   1093.900000   -114.032307  ...   \n",
      "\n",
      "       interval  lrbalance      lte      rte      lps      rps     smo2  \\\n",
      "count   23194.0    23194.0  23194.0  23194.0  23194.0  23194.0  23194.0   \n",
      "mean        0.0     -255.0      0.0      0.0      0.0      0.0      0.0   \n",
      "std         0.0        0.0      0.0      0.0      0.0      0.0      0.0   \n",
      "min         0.0     -255.0      0.0      0.0      0.0      0.0      0.0   \n",
      "25%         0.0     -255.0      0.0      0.0      0.0      0.0      0.0   \n",
      "50%         0.0     -255.0      0.0      0.0      0.0      0.0      0.0   \n",
      "75%         0.0     -255.0      0.0      0.0      0.0      0.0      0.0   \n",
      "max         0.0     -255.0      0.0      0.0      0.0      0.0      0.0   \n",
      "\n",
      "           thb     o2hb      hhb  \n",
      "count  23194.0  23194.0  23194.0  \n",
      "mean       0.0      0.0      0.0  \n",
      "std        0.0      0.0      0.0  \n",
      "min        0.0      0.0      0.0  \n",
      "25%        0.0      0.0      0.0  \n",
      "50%        0.0      0.0      0.0  \n",
      "75%        0.0      0.0      0.0  \n",
      "max        0.0      0.0      0.0  \n",
      "\n",
      "[8 rows x 24 columns]\n"
     ]
    },
    {
     "data": {
      "image/png": "[encoded data removed]",
      "text/plain": [
       "<Figure size 432x288 with 1 Axes>"
      ]
     },
     "metadata": {
      "needs_background": "light"
     },
     "output_type": "display_data"
    }
   ],
   "source": [
    "# Grab file list\n",
    "fileList = glob.glob(\"*.csv\")\n",
    "# Stick all the dataframes together\n",
    "data = pd.concat((pd.read_csv(f) for f in fileList)).reset_index()\n",
    "print(data.describe())\n",
    "corr = data.corr()\n",
    "\n",
    "# plt.figure(1)\n",
    "# plt.ylabel(\"Cadence (RPM)\")\n",
    "# plt.hist(data[\"cad\"], bins=100)\n",
    "# plt.figure(2)\n",
    "# plt.ylabel(\"Heart Rate (RPM)\")\n",
    "# plt.boxplot(data[\"hr\"])\n",
    "# plt.figure(3)\n",
    "# plt.ylabel(\"Speed (kph)\")\n",
    "# plt.boxplot(data[\"kph\"])\n",
    "plt.xlabel(\"Cadence (RPM)\")\n",
    "plt.ylabel(\"Speed (kph)\")\n",
    "plt.scatter(data[\"cad\"],data[\"kph\"])\n",
    "\n",
    "\n",
    "y = data[\"kph\"]\n",
    "X = data[[\"cad\", \"hr\", \"alt\"]]"
   ]
  },
  {
   "cell_type": "code",
   "execution_count": 4,
   "id": "6f8bf9ac-9c07-47b5-be6c-06de5bf3761c",
   "metadata": {},
   "outputs": [
    {
     "name": "stdout",
     "output_type": "stream",
     "text": [
      "Mean Absolute Error: 1.1056268014360717\n",
      "Mean Squared Error: 3.0718269688089896\n"
     ]
    }
   ],
   "source": [
    "linear_regression = LinearRegression()\n",
    "linear_regression.fit(X,y)\n",
    "y_pred = linear_regression.predict(X)\n",
    "\n",
    "df = pd.DataFrame({'Actual': y, 'Predicted': y_pred})\n",
    "\n",
    "coeff_df = pd.DataFrame(linear_regression.coef_, X.columns, columns=['Coefficient'])\n",
    "coeff_df.loc[\"Intercept\"] = linear_regression.intercept_\n",
    "\n",
    "print('Mean Absolute Error:', metrics.mean_absolute_error(y, y_pred))\n",
    "print('Mean Squared Error:', metrics.mean_squared_error(y, y_pred))"
   ]
  },
  {
   "cell_type": "code",
   "execution_count": 5,
   "id": "94883c2f-7ec6-4d3e-b458-c3c5934e51ec",
   "metadata": {},
   "outputs": [
    {
     "data": {
      "text/html": [
       "<div>\n",
       "<style scoped>\n",
       "    .dataframe tbody tr th:only-of-type {\n",
       "        vertical-align: middle;\n",
       "    }\n",
       "\n",
       "    .dataframe tbody tr th {\n",
       "        vertical-align: top;\n",
       "    }\n",
       "\n",
       "    .dataframe thead th {\n",
       "        text-align: right;\n",
       "    }\n",
       "</style>\n",
       "<table border=\"1\" class=\"dataframe\">\n",
       "  <thead>\n",
       "    <tr style=\"text-align: right;\">\n",
       "      <th></th>\n",
       "      <th>Coefficient</th>\n",
       "    </tr>\n",
       "  </thead>\n",
       "  <tbody>\n",
       "    <tr>\n",
       "      <th>cad</th>\n",
       "      <td>0.197511</td>\n",
       "    </tr>\n",
       "    <tr>\n",
       "      <th>hr</th>\n",
       "      <td>0.000668</td>\n",
       "    </tr>\n",
       "    <tr>\n",
       "      <th>alt</th>\n",
       "      <td>-0.016524</td>\n",
       "    </tr>\n",
       "    <tr>\n",
       "      <th>Intercept</th>\n",
       "      <td>11.235918</td>\n",
       "    </tr>\n",
       "  </tbody>\n",
       "</table>\n",
       "</div>"
      ],
      "text/plain": [
       "           Coefficient\n",
       "cad           0.197511\n",
       "hr            0.000668\n",
       "alt          -0.016524\n",
       "Intercept    11.235918"
      ]
     },
     "metadata": {},
     "output_type": "display_data"
    }
   ],
   "source": [
    "display(coeff_df)"
   ]
  },
  {
   "cell_type": "markdown",
   "id": "a18d66cc-2e85-447a-8f5f-92a631fb2205",
   "metadata": {},
   "source": [
    "Looking at the results of the linear regression, i"
   ]
  }
 ],
 "metadata": {
  "kernelspec": {
   "display_name": "Python 3 (ipykernel)",
   "language": "python",
   "name": "python3"
  },
  "language_info": {
   "codemirror_mode": {
    "name": "ipython",
    "version": 3
   },
   "file_extension": ".py",
   "mimetype": "text/x-python",
   "name": "python",
   "nbconvert_exporter": "python",
   "pygments_lexer": "ipython3",
   "version": "3.8.12"
  }
 },
 "nbformat": 4,
 "nbformat_minor": 5
}
